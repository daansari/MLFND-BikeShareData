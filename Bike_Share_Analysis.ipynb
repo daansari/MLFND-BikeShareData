{
 "cells": [
  {
   "cell_type": "markdown",
   "metadata": {},
   "source": [
    "# 2016 US Bike Share Activity Snapshot\n",
    "\n",
    "## Table of Contents\n",
    "- [Introduction](#intro)\n",
    "- [Posing Questions](#pose_questions)\n",
    "- [Data Collection and Wrangling](#wrangling)\n",
    "  - [Condensing the Trip Data](#condensing)\n",
    "- [Exploratory Data Analysis](#eda)\n",
    "  - [Statistics](#statistics)\n",
    "  - [Visualizations](#visualizations)\n",
    "- [Performing Your Own Analysis](#eda_continued)\n",
    "- [Conclusions](#conclusions)\n",
    "\n",
    "<a id='intro'></a>\n",
    "## Introduction\n",
    "\n",
    "> **Tip**: Quoted sections like this will provide helpful instructions on how to navigate and use a Jupyter notebook.\n",
    "\n",
    "Over the past decade, bicycle-sharing systems have been growing in number and popularity in cities across the world. Bicycle-sharing systems allow users to rent bicycles for short trips, typically 30 minutes or less. Thanks to the rise in information technologies, it is easy for a user of the system to access a dock within the system to unlock or return bicycles. These technologies also provide a wealth of data that can be used to explore how these bike-sharing systems are used.\n",
    "\n",
    "In this project, you will perform an exploratory analysis on data provided by [Motivate](https://www.motivateco.com/), a bike-share system provider for many major cities in the United States. You will compare the system usage between three large cities: New York City, Chicago, and Washington, DC. You will also see if there are any differences within each system for those users that are registered, regular users and those users that are short-term, casual users."
   ]
  },
  {
   "cell_type": "markdown",
   "metadata": {},
   "source": [
    "<a id='pose_questions'></a>\n",
    "## Posing Questions\n",
    "\n",
    "Before looking at the bike sharing data, you should start by asking questions you might want to understand about the bike share data. Consider, for example, if you were working for Motivate. What kinds of information would you want to know about in order to make smarter business decisions? If you were a user of the bike-share service, what factors might influence how you would want to use the service?\n",
    "\n",
    "**Question 1**: Write at least two questions related to bike sharing that you think could be answered by data.\n",
    "\n",
    "**Answer**: 1. Peak time of the day when most bikes are shared. 2. Average duration per user\n",
    "\n",
    "> **Tip**: If you double click on this cell, you will see the text change so that all of the formatting is removed. This allows you to edit this block of text. This block of text is written using [Markdown](http://daringfireball.net/projects/markdown/syntax), which is a way to format text using headers, links, italics, and many other options using a plain-text syntax. You will also use Markdown later in the Nanodegree program. Use **Shift** + **Enter** or **Shift** + **Return** to run the cell and show its rendered form."
   ]
  },
  {
   "cell_type": "markdown",
   "metadata": {},
   "source": [
    "<a id='wrangling'></a>\n",
    "## Data Collection and Wrangling\n",
    "\n",
    "Now it's time to collect and explore our data. In this project, we will focus on the record of individual trips taken in 2016 from our selected cities: New York City, Chicago, and Washington, DC. Each of these cities has a page where we can freely download the trip data.:\n",
    "\n",
    "- New York City (Citi Bike): [Link](https://www.citibikenyc.com/system-data)\n",
    "- Chicago (Divvy): [Link](https://www.divvybikes.com/system-data)\n",
    "- Washington, DC (Capital Bikeshare): [Link](https://www.capitalbikeshare.com/system-data)\n",
    "\n",
    "If you visit these pages, you will notice that each city has a different way of delivering its data. Chicago updates with new data twice a year, Washington DC is quarterly, and New York City is monthly. **However, you do not need to download the data yourself.** The data has already been collected for you in the `/data/` folder of the project files. While the original data for 2016 is spread among multiple files for each city, the files in the `/data/` folder collect all of the trip data for the year into one file per city. Some data wrangling of inconsistencies in timestamp format within each city has already been performed for you. In addition, a random 2% sample of the original data is taken to make the exploration more manageable. \n",
    "\n",
    "**Question 2**: However, there is still a lot of data for us to investigate, so it's a good idea to start off by looking at one entry from each of the cities we're going to analyze. Run the first code cell below to load some packages and functions that you'll be using in your analysis. Then, complete the second code cell to print out the first trip recorded from each of the cities (the second line of each data file).\n",
    "\n",
    "> **Tip**: You can run a code cell like you formatted Markdown cells above by clicking on the cell and using the keyboard shortcut **Shift** + **Enter** or **Shift** + **Return**. Alternatively, a code cell can be executed using the **Play** button in the toolbar after selecting it. While the cell is running, you will see an asterisk in the message to the left of the cell, i.e. `In [*]:`. The asterisk will change into a number to show that execution has completed, e.g. `In [1]`. If there is output, it will show up as `Out [1]:`, with an appropriate number to match the \"In\" number."
   ]
  },
  {
   "cell_type": "code",
   "execution_count": 1,
   "metadata": {
    "collapsed": true
   },
   "outputs": [],
   "source": [
    "## import all necessary packages and functions.\n",
    "import csv # read and write csv files\n",
    "import math\n",
    "# from collections import OrderedDict\n",
    "from datetime import datetime # operations to parse dates\n",
    "from pprint import pprint # use to print data structures like dictionaries in\n",
    "                          # a nicer way than the base print function."
   ]
  },
  {
   "cell_type": "code",
   "execution_count": 2,
   "metadata": {},
   "outputs": [
    {
     "name": "stdout",
     "output_type": "stream",
     "text": [
      "\n",
      "City: NYC\n",
      "\n",
      "first_trip: OrderedDict([('tripduration', '839'), ('starttime', '1/1/2016 00:09:55'), ('stoptime', '1/1/2016 00:23:54'), ('start station id', '532'), ('start station name', 'S 5 Pl & S 4 St'), ('start station latitude', '40.710451'), ('start station longitude', '-73.960876'), ('end station id', '401'), ('end station name', 'Allen St & Rivington St'), ('end station latitude', '40.72019576'), ('end station longitude', '-73.98997825'), ('bikeid', '17109'), ('usertype', 'Customer'), ('birth year', ''), ('gender', '0')])\n",
      "\n",
      "City: Chicago\n",
      "\n",
      "first_trip: OrderedDict([('trip_id', '9080545'), ('starttime', '3/31/2016 23:30'), ('stoptime', '3/31/2016 23:46'), ('bikeid', '2295'), ('tripduration', '926'), ('from_station_id', '156'), ('from_station_name', 'Clark St & Wellington Ave'), ('to_station_id', '166'), ('to_station_name', 'Ashland Ave & Wrightwood Ave'), ('usertype', 'Subscriber'), ('gender', 'Male'), ('birthyear', '1990')])\n",
      "\n",
      "City: Washington\n",
      "\n",
      "first_trip: OrderedDict([('Duration (ms)', '427387'), ('Start date', '3/31/2016 22:57'), ('End date', '3/31/2016 23:04'), ('Start station number', '31602'), ('Start station', 'Park Rd & Holmead Pl NW'), ('End station number', '31207'), ('End station', 'Georgia Ave and Fairmont St NW'), ('Bike number', 'W20842'), ('Member Type', 'Registered')])\n"
     ]
    }
   ],
   "source": [
    "def print_first_point(filename):\n",
    "    \"\"\"\n",
    "    This function prints and returns the first data point (second row) from\n",
    "    a csv file that includes a header row.\n",
    "    \"\"\"\n",
    "    # print city name for reference\n",
    "    city = filename.split('-')[0].split('/')[-1]\n",
    "    print('\\nCity: {}'.format(city))\n",
    "    \n",
    "    with open(filename, 'r') as f_in:\n",
    "        ## TODO: Use the csv library to set up a DictReader object. ##\n",
    "        ## see https://docs.python.org/3/library/csv.html           ##\n",
    "        trip_reader = csv.DictReader(f_in)\n",
    "        \n",
    "        ## TODO: Use a function on the DictReader object to read the     ##\n",
    "        ## first trip from the data file and store it in a variable.     ##\n",
    "            ## see https://docs.python.org/3/library/csv.html#reader-objects ##\n",
    "        first_trip = trip_reader.__next__()\n",
    "        \n",
    "        ## TODO: Use the pprint library to print the first trip. ##\n",
    "        ## see https://docs.python.org/3/library/pprint.html     ##\n",
    "        print('\\nfirst_trip: {}'.format(first_trip))\n",
    "        \n",
    "    # output city name and first trip for later testing\n",
    "    return (city, first_trip)\n",
    "\n",
    "# list of files for each city\n",
    "data_files = ['./data/NYC-CitiBike-2016.csv',\n",
    "              './data/Chicago-Divvy-2016.csv',\n",
    "              './data/Washington-CapitalBikeshare-2016.csv',]\n",
    "\n",
    "# print the first trip from each file, store in dictionary\n",
    "example_trips = {}\n",
    "for data_file in data_files:\n",
    "    city, first_trip = print_first_point(data_file)\n",
    "    example_trips[city] = first_trip"
   ]
  },
  {
   "cell_type": "markdown",
   "metadata": {},
   "source": [
    "If everything has been filled out correctly, you should see below the printout of each city name (which has been parsed from the data file name) that the first trip has been parsed in the form of a dictionary. When you set up a `DictReader` object, the first row of the data file is normally interpreted as column names. Every other row in the data file will use those column names as keys, as a dictionary is generated for each row.\n",
    "\n",
    "This will be useful since we can refer to quantities by an easily-understandable label instead of just a numeric index. For example, if we have a trip stored in the variable `row`, then we would rather get the trip duration from `row['duration']` instead of `row[0]`.\n",
    "\n",
    "<a id='condensing'></a>\n",
    "### Condensing the Trip Data\n",
    "\n",
    "It should also be observable from the above printout that each city provides different information. Even where the information is the same, the column names and formats are sometimes different. To make things as simple as possible when we get to the actual exploration, we should trim and clean the data. Cleaning the data makes sure that the data formats across the cities are consistent, while trimming focuses only on the parts of the data we are most interested in to make the exploration easier to work with.\n",
    "\n",
    "You will generate new data files with five values of interest for each trip: trip duration, starting month, starting hour, day of the week, and user type. Each of these may require additional wrangling depending on the city:\n",
    "\n",
    "- **Duration**: This has been given to us in seconds (New York, Chicago) or milliseconds (Washington). A more natural unit of analysis will be if all the trip durations are given in terms of minutes.\n",
    "- **Month**, **Hour**, **Day of Week**: Ridership volume is likely to change based on the season, time of day, and whether it is a weekday or weekend. Use the start time of the trip to obtain these values. The New York City data includes the seconds in their timestamps, while Washington and Chicago do not. The [`datetime`](https://docs.python.org/3/library/datetime.html) package will be very useful here to make the needed conversions.\n",
    "- **User Type**: It is possible that users who are subscribed to a bike-share system will have different patterns of use compared to users who only have temporary passes. Washington divides its users into two types: 'Registered' for users with annual, monthly, and other longer-term subscriptions, and 'Casual', for users with 24-hour, 3-day, and other short-term passes. The New York and Chicago data uses 'Subscriber' and 'Customer' for these groups, respectively. For consistency, you will convert the Washington labels to match the other two.\n",
    "\n",
    "\n",
    "**Question 3a**: Complete the helper functions in the code cells below to address each of the cleaning tasks described above."
   ]
  },
  {
   "cell_type": "code",
   "execution_count": 3,
   "metadata": {
    "collapsed": true
   },
   "outputs": [],
   "source": [
    "def duration_in_mins(datum, city):\n",
    "    \"\"\"\n",
    "    Takes as input a dictionary containing info about a single trip (datum) and\n",
    "    its origin city (city) and returns the trip duration in units of minutes.\n",
    "    \n",
    "    Remember that Washington is in terms of milliseconds while Chicago and NYC\n",
    "    are in terms of seconds. \n",
    "    \n",
    "    HINT: The csv module reads in all of the data as strings, including numeric\n",
    "    values. You will need a function to convert the strings into an appropriate\n",
    "    numeric type when making your transformations.\n",
    "    see https://docs.python.org/3/library/functions.html\n",
    "    \"\"\"\n",
    "    # YOUR CODE HERE\n",
    "    duration = 0\n",
    "    if city == \"NYC\":\n",
    "        trip_duration = datum['tripduration']\n",
    "        duration = float(trip_duration) / 60\n",
    "    elif city == \"Chicago\":\n",
    "        trip_duration = datum['tripduration']\n",
    "        duration = float(trip_duration) / 60\n",
    "    else:\n",
    "        trip_duration = datum['Duration (ms)']\n",
    "        duration = (float(trip_duration) / 1000) / 60\n",
    "    \n",
    "    return duration\n",
    "\n",
    "\n",
    "# Some tests to check that your code works. There should be no output if all of\n",
    "# the assertions pass. The `example_trips` dictionary was obtained from when\n",
    "# you printed the first trip from each of the original data files.\n",
    "tests = {'NYC': 13.9833,\n",
    "         'Chicago': 15.4333,\n",
    "         'Washington': 7.1231}\n",
    "\n",
    "for city in tests:\n",
    "    assert abs(duration_in_mins(example_trips[city], city) - tests[city]) < .001"
   ]
  },
  {
   "cell_type": "code",
   "execution_count": 4,
   "metadata": {
    "collapsed": true
   },
   "outputs": [],
   "source": [
    "def time_of_trip(datum, city):\n",
    "    \"\"\"\n",
    "    Takes as input a dictionary containing info about a single trip (datum) and\n",
    "    its origin city (city) and returns the month, hour, and day of the week in\n",
    "    which the trip was made.\n",
    "    \n",
    "    Remember that NYC includes seconds, while Washington and Chicago do not.\n",
    "    \n",
    "    HINT: You should use the datetime module to parse the original date\n",
    "    strings into a format that is useful for extracting the desired information.\n",
    "    see https://docs.python.org/3/library/datetime.html#strftime-and-strptime-behavior\n",
    "    \"\"\"\n",
    "    \n",
    "    # YOUR CODE HERE\n",
    "    month = 0 \n",
    "    hour = 0 \n",
    "    day_of_week = \"\"\n",
    "    weekday = 0 # 0 = Monday\n",
    "    if city == \"NYC\":\n",
    "        fmt = '%m/%d/%Y %H:%M:%S'\n",
    "        trip_date_str = datum['starttime']        \n",
    "        trip_date = datetime.strptime(trip_date_str, fmt)\n",
    "        month = trip_date.month\n",
    "        hour = trip_date.hour\n",
    "        weekday = trip_date.weekday()\n",
    "    elif city == \"Chicago\":\n",
    "        fmt = '%m/%d/%Y %H:%M'\n",
    "        trip_date_str = datum['starttime']\n",
    "        trip_date = datetime.strptime(trip_date_str, fmt)\n",
    "        month = trip_date.month\n",
    "        hour = trip_date.hour\n",
    "        weekday = trip_date.weekday()\n",
    "    else:\n",
    "        fmt = '%m/%d/%Y %H:%M'\n",
    "        trip_date_str = datum['Start date']\n",
    "        trip_date = datetime.strptime(trip_date_str, fmt)\n",
    "        month = trip_date.month\n",
    "        hour = trip_date.hour\n",
    "        weekday = trip_date.weekday()\n",
    "        \n",
    "    if weekday == 0:\n",
    "        day_of_week = \"Monday\"\n",
    "    elif weekday == 1:\n",
    "        day_of_week = \"Tuesday\"\n",
    "    elif weekday == 2:\n",
    "        day_of_week = \"Wednesday\"\n",
    "    elif weekday == 3:\n",
    "        day_of_week = \"Thursday\"\n",
    "    elif weekday == 4:\n",
    "        day_of_week = \"Friday\"\n",
    "    elif weekday == 5:\n",
    "        day_of_week = \"Saturday\"\n",
    "    elif weekday == 6:\n",
    "        day_of_week = \"Sunday\"\n",
    "    \n",
    "    return (month, hour, day_of_week)\n",
    "\n",
    "\n",
    "# Some tests to check that your code works. There should be no output if all of\n",
    "# the assertions pass. The `example_trips` dictionary was obtained from when\n",
    "# you printed the first trip from each of the original data files.\n",
    "tests = {'NYC': (1, 0, 'Friday'),\n",
    "         'Chicago': (3, 23, 'Thursday'),\n",
    "         'Washington': (3, 22, 'Thursday')}\n",
    "\n",
    "for city in tests:\n",
    "    assert time_of_trip(example_trips[city], city) == tests[city]"
   ]
  },
  {
   "cell_type": "code",
   "execution_count": 5,
   "metadata": {
    "collapsed": true
   },
   "outputs": [],
   "source": [
    "def type_of_user(datum, city):\n",
    "    \"\"\"\n",
    "    Takes as input a dictionary containing info about a single trip (datum) and\n",
    "    its origin city (city) and returns the type of system user that made the\n",
    "    trip.\n",
    "    \n",
    "    Remember that Washington has different category names compared to Chicago\n",
    "    and NYC. \n",
    "    \"\"\"\n",
    "    # YOUR CODE HERE\n",
    "    user_type = \"\"\n",
    "    if city == \"NYC\":\n",
    "        user_type = datum['usertype']\n",
    "    elif city == \"Chicago\":\n",
    "        user_type = datum['usertype']\n",
    "    else:\n",
    "        user_type = datum['Member Type']\n",
    "        \n",
    "    return user_type\n",
    "\n",
    "\n",
    "# Some tests to check that your code works. There should be no output if all of\n",
    "# the assertions pass. The `example_trips` dictionary was obtained from when\n",
    "# you printed the first trip from each of the original data files.\n",
    "tests = {'NYC': 'Customer',\n",
    "         'Chicago': 'Subscriber',\n",
    "         'Washington': 'Registered'}\n",
    "\n",
    "for city in tests:\n",
    "    assert type_of_user(example_trips[city], city) == tests[city]"
   ]
  },
  {
   "cell_type": "markdown",
   "metadata": {},
   "source": [
    "**Question 3b**: Now, use the helper functions you wrote above to create a condensed data file for each city consisting only of the data fields indicated above. In the `/examples/` folder, you will see an example datafile from the [Bay Area Bike Share](http://www.bayareabikeshare.com/open-data) before and after conversion. Make sure that your output is formatted to be consistent with the example file."
   ]
  },
  {
   "cell_type": "code",
   "execution_count": 6,
   "metadata": {
    "collapsed": true
   },
   "outputs": [],
   "source": [
    "def condense_data(in_file, out_file, city):\n",
    "    \"\"\"\n",
    "    This function takes full data from the specified input file\n",
    "    and writes the condensed data to a specified output file. The city\n",
    "    argument determines how the input file will be parsed.\n",
    "    \n",
    "    HINT: See the cell below to see how the arguments are structured!\n",
    "    \"\"\"\n",
    "    \n",
    "    with open(out_file, 'w') as f_out, open(in_file, 'r') as f_in:\n",
    "        # set up csv DictWriter object - writer requires column names for the\n",
    "        # first row as the \"fieldnames\" argument\n",
    "        out_colnames = ['duration', 'month', 'hour', 'day_of_week', 'user_type']        \n",
    "        trip_writer = csv.DictWriter(f_out, fieldnames = out_colnames)\n",
    "        trip_writer.writeheader()\n",
    "        \n",
    "        ## TODO: set up csv DictReader object ##        \n",
    "        trip_reader = csv.DictReader(f_in)\n",
    "        # collect data from and process each row\n",
    "        writer = csv.writer(f_out)\n",
    "        trip_reader.__next__()\n",
    "        \n",
    "        for row in trip_reader:\n",
    "            # set up a dictionary to hold the values for the cleaned and trimmed\n",
    "            # data point\n",
    "            new_point = []\n",
    "#             print(\"row - \", row)\n",
    "\n",
    "            ## TODO: use the helper functions to get the cleaned data from  ##\n",
    "            ## the original data dictionaries.                              ##\n",
    "            ## Note that the keys for the new_point dictionary should match ##\n",
    "            ## the column names set in the DictWriter object above.         ##\n",
    "            duration = duration_in_mins(row, city)\n",
    "#             print(\"duration - \", duration)\n",
    "            new_point.append(str(duration))\n",
    "            \n",
    "            time_of_trip_data = time_of_trip(row, city)  \n",
    "#             print(\"time_of_trip_data - \", time_of_trip_data)\n",
    "            new_point.append(str(time_of_trip_data[0]))\n",
    "            new_point.append(str(time_of_trip_data[1]))\n",
    "            new_point.append(str(time_of_trip_data[2]))\n",
    "            \n",
    "            user_type = type_of_user(row, city)\n",
    "#             print(\"user_type - \", user_type)\n",
    "            new_point.append(user_type)\n",
    "            \n",
    "#             print(\"new_point - \", new_point)\n",
    "\n",
    "            ## TODO: write the processed information to the output file.     ##\n",
    "            ## see https://docs.python.org/3/library/csv.html#writer-objects ##\n",
    "            writer.writerow(new_point)\n",
    "            \n",
    "            "
   ]
  },
  {
   "cell_type": "code",
   "execution_count": 7,
   "metadata": {},
   "outputs": [
    {
     "name": "stdout",
     "output_type": "stream",
     "text": [
      "\n",
      "City: Washington\n",
      "\n",
      "first_trip: OrderedDict([('duration', '9.792516666666668'), ('month', '3'), ('hour', '22'), ('day_of_week', 'Thursday'), ('user_type', 'Registered')])\n",
      "\n",
      "City: Chicago\n",
      "\n",
      "first_trip: OrderedDict([('duration', '3.3'), ('month', '3'), ('hour', '22'), ('day_of_week', 'Thursday'), ('user_type', 'Subscriber')])\n",
      "\n",
      "City: NYC\n",
      "\n",
      "first_trip: OrderedDict([('duration', '11.433333333333334'), ('month', '1'), ('hour', '0'), ('day_of_week', 'Friday'), ('user_type', 'Subscriber')])\n"
     ]
    }
   ],
   "source": [
    "# Run this cell to check your work\n",
    "city_info = {'Washington': {'in_file': './data/Washington-CapitalBikeshare-2016.csv',\n",
    "                            'out_file': './data/Washington-2016-Summary.csv'},\n",
    "             'Chicago': {'in_file': './data/Chicago-Divvy-2016.csv',\n",
    "                         'out_file': './data/Chicago-2016-Summary.csv'},\n",
    "             'NYC': {'in_file': './data/NYC-CitiBike-2016.csv',\n",
    "                     'out_file': './data/NYC-2016-Summary.csv'}}\n",
    "clean_files = {}\n",
    "for city, filenames in city_info.items():\n",
    "    condense_data(filenames['in_file'], filenames['out_file'], city)\n",
    "    clean_files[city] = filenames['out_file']\n",
    "    print_first_point(filenames['out_file'])"
   ]
  },
  {
   "cell_type": "markdown",
   "metadata": {},
   "source": [
    "> **Tip**: If you save a jupyter Notebook, the output from running code blocks will also be saved. However, the state of your workspace will be reset once a new session is started. Make sure that you run all of the necessary code blocks from your previous session to reestablish variables and functions before picking up where you last left off.\n",
    "\n",
    "<a id='eda'></a>\n",
    "## Exploratory Data Analysis\n",
    "\n",
    "Now that you have the data collected and wrangled, you're ready to start exploring the data. In this section you will write some code to compute descriptive statistics from the data. You will also be introduced to the `matplotlib` library to create some basic histograms of the data.\n",
    "\n",
    "<a id='statistics'></a>\n",
    "### Statistics\n",
    "\n",
    "First, let's compute some basic counts. The first cell below contains a function that uses the csv module to iterate through a provided data file, returning the number of trips made by subscribers and customers. The second cell runs this function on the example Bay Area data in the `/examples/` folder. Modify the cells to answer the question below.\n",
    "\n",
    "**Question 4a**: Which city has the highest number of trips? Which city has the highest proportion of trips made by subscribers? Which city has the highest proportion of trips made by short-term customers?\n",
    "\n",
    "**Answer**: Replace this text with your response!"
   ]
  },
  {
   "cell_type": "code",
   "execution_count": 8,
   "metadata": {
    "collapsed": true
   },
   "outputs": [],
   "source": [
    "# print(\"clean_files - \", clean_files)\n",
    "def number_of_trips(city, filename):\n",
    "    \"\"\"\n",
    "    This function reads in a file with trip data and reports the number of\n",
    "    trips made by subscribers, customers, and total overall.\n",
    "    \"\"\"\n",
    "    with open(filename, 'r') as f_in:\n",
    "        # set up csv reader object\n",
    "        reader = csv.DictReader(f_in)\n",
    "        \n",
    "        # initialize count variables\n",
    "        n_subscribers = 0\n",
    "        n_customers = 0\n",
    "        \n",
    "        # tally up ride types\n",
    "        user_type_value = \"\"\n",
    "        if city == \"Washington\":\n",
    "            user_type_value = \"Registered\"\n",
    "        else:\n",
    "            user_type_value = \"Subscriber\"\n",
    "        for row in reader:\n",
    "            if row['user_type'] == user_type_value:\n",
    "                n_subscribers += 1\n",
    "            else:\n",
    "                n_customers += 1\n",
    "        \n",
    "        # compute total number of rides\n",
    "        n_total = n_subscribers + n_customers\n",
    "        \n",
    "        # return tallies as a tuple\n",
    "        return(n_subscribers, n_customers, n_total)"
   ]
  },
  {
   "cell_type": "code",
   "execution_count": 58,
   "metadata": {},
   "outputs": [
    {
     "name": "stdout",
     "output_type": "stream",
     "text": [
      "NYC has the highest number of trips - 276797\n",
      "\n",
      "NYC has the highest proportion of subscribers - 0.9\n",
      "\n",
      "Chicago has the highest proportion of short term customers - 0.2\n"
     ]
    }
   ],
   "source": [
    "## Modify this and the previous cell to answer Question 4a. Remember to run ##\n",
    "## the function on the cleaned data files you created from Question 3.      ##\n",
    "\n",
    "number_of_trips_data = {}\n",
    "for city, filename in clean_files.items():\n",
    "    number_of_trips_value = number_of_trips(city, filename)\n",
    "    number_of_trips_data[city] = number_of_trips_value\n",
    "\n",
    "# print(\"number_of_trips_data - \", number_of_trips_data)\n",
    "\n",
    "city_with_highest_number_of_trips = \"\"\n",
    "highest_number_of_trips = 0 \n",
    "city_with_highest_proportion_of_subscribers = \"\"\n",
    "highest_proportion_of_subscribers = 0\n",
    "city_with_highest_number_of_short_term_customers = \"\"\n",
    "highest_proportion_of_short_term_customers = 0\n",
    "\n",
    "for city, data in number_of_trips_data.items():\n",
    "    if highest_proportion_of_subscribers < (data[0] / data[2]):\n",
    "        highest_proportion_of_subscribers = round((data[0] / data[2]), 1)\n",
    "        city_with_highest_number_of_subscribers = city\n",
    "    \n",
    "    if highest_proportion_of_short_term_customers < (data[1] / data[2]):\n",
    "        highest_proportion_of_short_term_customers = round((data[1] / data[2]), 1)\n",
    "        city_with_highest_number_of_short_term_customers = city\n",
    "    \n",
    "    if highest_number_of_trips < data[2]:\n",
    "        highest_number_of_trips = data[2]\n",
    "        city_with_highest_number_of_trips = city\n",
    "    \n",
    "# print(\"city_with_highest_number_of_trips - \", city_with_highest_number_of_trips)\n",
    "# print(\"highest_number_of_trips - \", highest_number_of_trips)\n",
    "# print(\"city_with_highest_number_of_subscribers - \", city_with_highest_number_of_subscribers)\n",
    "# print(\"highest_proportion_of_subscribers - \", highest_proportion_of_subscribers)\n",
    "# print(\"city_with_highest_number_of_short_term_customers - \", city_with_highest_number_of_short_term_customers)\n",
    "# print(\"highest_proportion_of_short_term_customers - \", highest_proportion_of_short_term_customers)\n",
    "        \n",
    "    \n",
    "print(\"{} has the highest number of trips - {}\\n\".format(city_with_highest_number_of_trips, highest_number_of_trips))\n",
    "print(\"{} has the highest proportion of subscribers - {}\\n\".format(city_with_highest_number_of_subscribers, highest_proportion_of_subscribers))\n",
    "print(\"{} has the highest proportion of short term customers - {}\".format(city_with_highest_number_of_short_term_customers, highest_proportion_of_short_term_customers))"
   ]
  },
  {
   "cell_type": "markdown",
   "metadata": {},
   "source": [
    "> **Tip**: In order to add additional cells to a notebook, you can use the \"Insert Cell Above\" and \"Insert Cell Below\" options from the menu bar above. There is also an icon in the toolbar for adding new cells, with additional icons for moving the cells up and down the document. By default, new cells are of the code type; you can also specify the cell type (e.g. Code or Markdown) of selected cells from the Cell menu or the dropdown in the toolbar.\n",
    "\n",
    "Now, you will write your own code to continue investigating properties of the data.\n",
    "\n",
    "**Question 4b**: Bike-share systems are designed for riders to take short trips. Most of the time, users are allowed to take trips of 30 minutes or less with no additional charges, with overage charges made for trips of longer than that duration. What is the average trip length for each city? What proportion of rides made in each city are longer than 30 minutes?\n",
    "\n",
    "**Answer**: Replace this text with your reponse!"
   ]
  },
  {
   "cell_type": "code",
   "execution_count": 10,
   "metadata": {
    "collapsed": true,
    "scrolled": true
   },
   "outputs": [],
   "source": [
    "## Use this and additional cells to answer Question 4b.                 ##\n",
    "##                                                                      ##\n",
    "## HINT: The csv module reads in all of the data as strings, including  ##\n",
    "## numeric values. You will need a function to convert the strings      ##\n",
    "## into an appropriate numeric type before you aggregate data.          ##\n",
    "## TIP: For the Bay Area example, the average trip length is 14 minutes ##\n",
    "## and 3.5% of trips are longer than 30 minutes.                        ##\n",
    "def trip_duration(city, filename):\n",
    "    \"\"\"\n",
    "    This function reads in a file with trip data and reports the number of\n",
    "    trips made by subscribers, customers, and total overall.\n",
    "    \"\"\"\n",
    "    with open(filename, 'r') as f_in:\n",
    "        # set up csv reader object\n",
    "        reader = csv.DictReader(f_in)\n",
    "        total_duration = 0.0   \n",
    "        city_datum = number_of_trips_data[city]\n",
    "        count = city_datum[2]\n",
    "        \n",
    "        rides_that_took_more_than_thirty_minutes = 0\n",
    "        for row in reader:\n",
    "            duration = float(row['duration'])\n",
    "            total_duration = total_duration + duration\n",
    "            if duration > 30.0:\n",
    "                rides_that_took_more_than_thirty_minutes += 1\n",
    "        avg_duration = total_duration // count\n",
    "        ride_percentage = (rides_that_took_more_than_thirty_minutes / count) * 100\n",
    "        \n",
    "        return (round(avg_duration, 1), round(ride_percentage, 1))\n",
    "            \n"
   ]
  },
  {
   "cell_type": "code",
   "execution_count": 54,
   "metadata": {},
   "outputs": [
    {
     "name": "stdout",
     "output_type": "stream",
     "text": [
      "Average Trip length in Washington is 18.0 \n",
      "Proportion of rides which were < 30 minutes in Washington is 18.0 \n",
      "\n",
      "Average Trip length in Chicago is 16.0 \n",
      "Proportion of rides which were < 30 minutes in Chicago is 16.0 \n",
      "\n",
      "Average Trip length in NYC is 15.0 \n",
      "Proportion of rides which were < 30 minutes in NYC is 15.0 \n",
      "\n"
     ]
    }
   ],
   "source": [
    "trip_duration_data = {}\n",
    "for city, filename in clean_files.items():\n",
    "    trip_duration_data[city] = trip_duration(city, filename)\n",
    "    trip_data = trip_duration_data[city]\n",
    "    print(\"Average Trip length in {} is {} \".format(city, trip_data[0]))\n",
    "    print(\"Proportion of rides which were < 30 minutes in {} is {} \\n\".format(city, trip_data[0]))\n",
    "\n",
    "# print(trip_duration_data)\n",
    "#     break"
   ]
  },
  {
   "cell_type": "markdown",
   "metadata": {},
   "source": [
    "**Question 4c**: Dig deeper into the question of trip duration based on ridership. Choose one city. Within that city, which type of user takes longer rides on average: Subscribers or Customers?\n",
    "\n",
    "**Answer**: Replace this text with your response!"
   ]
  },
  {
   "cell_type": "code",
   "execution_count": 59,
   "metadata": {
    "collapsed": true
   },
   "outputs": [],
   "source": [
    "## Use this and additional cells to answer Question 4c. If you have    ##\n",
    "## not done so yet, consider revising some of your previous code to    ##\n",
    "## make use of functions for reusability.                              ##\n",
    "##                                                                     ##\n",
    "## TIP: For the Bay Area example data, you should find the average     ##\n",
    "## Subscriber trip duration to be 9.5 minutes and the average Customer ##\n",
    "## trip duration to be 54.6 minutes. Do the other cities have this     ##\n",
    "## level of difference?                                                ##\n",
    "def user_based_duration(city, filename):\n",
    "    with open(filename, 'r') as f_in:\n",
    "        reader = csv.DictReader(f_in)\n",
    "        \n",
    "        duration_subscriber = 0\n",
    "        duration_customer = 0\n",
    "        total_subscribers = 0\n",
    "        total_customers = 0\n",
    "        longer_rides = 0.0\n",
    "        longer_user_type = \"\"\n",
    "        \n",
    "        for row in reader:\n",
    "            if row[\"user_type\"] == \"Subscriber\":\n",
    "                duration_subscriber += float(row[\"duration\"])\n",
    "                total_subscribers += 1\n",
    "            else:\n",
    "                duration_customer += float(row[\"duration\"])\n",
    "                total_customers += 1\n",
    "\n",
    "#         print(\"duration_subscriber - \", duration_subscriber)\n",
    "#         print(\"total_subscribers - \", total_subscribers)\n",
    "#         print(\"duration_customer - \", duration_customer)\n",
    "#         print(\"total_customers - \", total_customers)\n",
    "        \n",
    "        avg_subscriber_duration = duration_subscriber / total_subscribers\n",
    "        avg_customer_duration = duration_customer / total_customers        \n",
    "#         print(\"avg_subscriber_duration - \", avg_subscriber_duration)\n",
    "#         print(\"avg_customer_duration - \", avg_customer_duration)\n",
    "        \n",
    "        if avg_subscriber_duration > avg_customer_duration:\n",
    "            return (\"Subscriber\", int(avg_subscriber_duration), \"Customer\", int(avg_customer_duration))\n",
    "        else:\n",
    "            return (\"Customer\", int(avg_customer_duration), \"Subscriber\", int(avg_subscriber_duration))\n",
    "                \n"
   ]
  },
  {
   "cell_type": "code",
   "execution_count": 61,
   "metadata": {},
   "outputs": [
    {
     "name": "stdout",
     "output_type": "stream",
     "text": [
      "Customer takes longer ride: 30 minutes which is more than Subscribers: 12 minutes\n"
     ]
    }
   ],
   "source": [
    "user_duration_data = {}\n",
    "city = \"Chicago\"\n",
    "chicago_file = clean_files[city]\n",
    "user_type = user_based_duration(city, chicago_file)\n",
    "print(\"{} takes longer ride: {} minutes which is more than {}s: {} minutes\".format(user_type[0], user_type[1], user_type[2], user_type[3]))\n",
    "\n",
    "# data_file = './examples/BayArea-Y3-Summary.csv'\n",
    "# for city, filename in clean_files.items():\n",
    "#     trip_duration_data[city] = trip_duration(city, filename)"
   ]
  },
  {
   "cell_type": "markdown",
   "metadata": {},
   "source": [
    "<a id='visualizations'></a>\n",
    "### Visualizations\n",
    "\n",
    "The last set of values that you computed should have pulled up an interesting result. While the mean trip time for Subscribers is well under 30 minutes, the mean trip time for Customers is actually _above_ 30 minutes! It will be interesting for us to look at how the trip times are distributed. In order to do this, a new library will be introduced here, `matplotlib`. Run the cell below to load the library and to generate an example plot."
   ]
  },
  {
   "cell_type": "code",
   "execution_count": 14,
   "metadata": {},
   "outputs": [
    {
     "data": {
      "image/png": "[encoded data removed]",
      "text/plain": [
       "<matplotlib.figure.Figure at 0x103ce0550>"
      ]
     },
     "metadata": {},
     "output_type": "display_data"
    }
   ],
   "source": [
    "# load library\n",
    "import matplotlib.pyplot as plt\n",
    "\n",
    "# this is a 'magic word' that allows for plots to be displayed\n",
    "# inline with the notebook. If you want to know more, see:\n",
    "# http://ipython.readthedocs.io/en/stable/interactive/magics.html\n",
    "%matplotlib inline \n",
    "\n",
    "# example histogram, data taken from bay area sample\n",
    "data = [ 7.65,  8.92,  7.42,  5.50, 16.17,  4.20,  8.98,  9.62, 11.48, 14.33,\n",
    "        19.02, 21.53,  3.90,  7.97,  2.62,  2.67,  3.08, 14.40, 12.90,  7.83,\n",
    "        25.12,  8.30,  4.93, 12.43, 10.60,  6.17, 10.88,  4.78, 15.15,  3.53,\n",
    "         9.43, 13.32, 11.72,  9.85,  5.22, 15.10,  3.95,  3.17,  8.78,  1.88,\n",
    "         4.55, 12.68, 12.38,  9.78,  7.63,  6.45, 17.38, 11.90, 11.52,  8.63,]\n",
    "plt.hist(data)\n",
    "plt.title('Distribution of Trip Durations')\n",
    "plt.xlabel('Duration (m)')\n",
    "plt.show()"
   ]
  },
  {
   "cell_type": "markdown",
   "metadata": {},
   "source": [
    "In the above cell, we collected fifty trip times in a list, and passed this list as the first argument to the `.hist()` function. This function performs the computations and creates plotting objects for generating a histogram, but the plot is actually not rendered until the `.show()` function is executed. The `.title()` and `.xlabel()` functions provide some labeling for plot context.\n",
    "\n",
    "You will now use these functions to create a histogram of the trip times for the city you selected in question 4c. Don't separate the Subscribers and Customers for now: just collect all of the trip times and plot them."
   ]
  },
  {
   "cell_type": "code",
   "execution_count": 15,
   "metadata": {
    "collapsed": true
   },
   "outputs": [],
   "source": [
    "## Use this and additional cells to collect all of the trip times as a list ##\n",
    "## and then use pyplot functions to generate a histogram of trip times.     ##\n",
    "def historical_data(city, filename):\n",
    "    with open(filename, 'r') as f_in:\n",
    "        reader = csv.DictReader(f_in)\n",
    "        \n",
    "        duration_for_subscribers = []\n",
    "        duration_for_customers = []\n",
    "        for row in reader:\n",
    "            if row[\"user_type\"] == \"Subscriber\":\n",
    "                duration_for_subscribers.append(float(row[\"duration\"]))\n",
    "            else:\n",
    "                duration_for_customers.append(float(row[\"duration\"]))\n",
    "        \n",
    "        return (duration_for_subscribers, duration_for_customers)\n",
    "        "
   ]
  },
  {
   "cell_type": "code",
   "execution_count": 16,
   "metadata": {},
   "outputs": [
    {
     "data": {
      "image/png": "[encoded data removed]",
      "text/plain": [
       "<matplotlib.figure.Figure at 0x109b8b128>"
      ]
     },
     "metadata": {},
     "output_type": "display_data"
    },
    {
     "data": {
      "image/png": "[encoded data removed]",
      "text/plain": [
       "<matplotlib.figure.Figure at 0x10a49f080>"
      ]
     },
     "metadata": {},
     "output_type": "display_data"
    }
   ],
   "source": [
    "# for city, filename in clean_files.items():\n",
    "#     historical_data(city, filename)\n",
    "city = \"Chicago\"\n",
    "chicago_file = clean_files[city]\n",
    "durations = historical_data(city, filename)\n",
    "subscriber_durations = durations[0]\n",
    "customer_durations = durations[1]\n",
    "plt.hist(subscriber_durations)\n",
    "plt.title('Distribution of Trip Durations: Subscribers - {}'.format(city))\n",
    "plt.xlabel('Duration (m)')\n",
    "plt.show()\n",
    "\n",
    "plt.hist(customer_durations)\n",
    "plt.title('Distribution of Trip Durations: Customers - {}'.format(city))\n",
    "plt.xlabel('Duration (m)')\n",
    "plt.show()"
   ]
  },
  {
   "cell_type": "markdown",
   "metadata": {},
   "source": [
    "If you followed the use of the `.hist()` and `.show()` functions exactly like in the example, you're probably looking at a plot that's completely unexpected. The plot consists of one extremely tall bar on the left, maybe a very short second bar, and a whole lot of empty space in the center and right. Take a look at the duration values on the x-axis. This suggests that there are some highly infrequent outliers in the data. Instead of reprocessing the data, you will use additional parameters with the `.hist()` function to limit the range of data that is plotted. Documentation for the function can be found [[here]](https://matplotlib.org/devdocs/api/_as_gen/matplotlib.pyplot.hist.html#matplotlib.pyplot.hist).\n",
    "\n",
    "**Question 5**: Use the parameters of the `.hist()` function to plot the distribution of trip times for the Subscribers in your selected city. Do the same thing for only the Customers. Add limits to the plots so that only trips of duration less than 75 minutes are plotted. As a bonus, set the plots up so that bars are in five-minute wide intervals. For each group, where is the peak of each distribution? How would you describe the shape of each distribution?\n",
    "\n",
    "**Answer**: Replace this text with your response!"
   ]
  },
  {
   "cell_type": "code",
   "execution_count": 17,
   "metadata": {},
   "outputs": [
    {
     "data": {
      "image/png": "[encoded data removed]",
      "text/plain": [
       "<matplotlib.figure.Figure at 0x109b8b080>"
      ]
     },
     "metadata": {},
     "output_type": "display_data"
    },
    {
     "name": "stdout",
     "output_type": "stream",
     "text": [
      "The distribution for Subscriber is right skewed. Median < Mean\n"
     ]
    },
    {
     "data": {
      "image/png": "[encoded data removed]",
      "text/plain": [
       "<matplotlib.figure.Figure at 0x10a4ffb38>"
      ]
     },
     "metadata": {},
     "output_type": "display_data"
    },
    {
     "name": "stdout",
     "output_type": "stream",
     "text": [
      "The distribution for Customer is right skewed. Mode < Median < Mean\n"
     ]
    }
   ],
   "source": [
    "## Use this and additional cells to answer Question 5. ##\n",
    "plt.hist(subscriber_durations, range = (min(subscriber_durations), 75))\n",
    "# plt.ylim([0, 75])\n",
    "plt.title('Distribution of Trip Durations: Subscribers - {}'.format(city))\n",
    "plt.xlabel('Duration (m)')\n",
    "plt.show()\n",
    "print(\"The distribution for Subscriber is right skewed. Median < Mean\")\n",
    "\n",
    "plt.hist(customer_durations, range = (min(customer_durations), 75))\n",
    "plt.title('Distribution of Trip Durations: Customers - {}'.format(city))\n",
    "plt.xlabel('Duration (m)')\n",
    "plt.show()\n",
    "print(\"The distribution for Customer is right skewed. Mode < Median < Mean\")\n",
    "\n",
    "# The distribution for Subscriber is right skewed. Median < Mean\n",
    "# The distribution for Customer is right skewed. Mode < Median < Mean\n"
   ]
  },
  {
   "cell_type": "markdown",
   "metadata": {
    "collapsed": true
   },
   "source": [
    "<a id='eda_continued'></a>\n",
    "## Performing Your Own Analysis\n",
    "\n",
    "So far, you've performed an initial exploration into the data available. You have compared the relative volume of trips made between three U.S. cities and the ratio of trips made by Subscribers and Customers. For one of these cities, you have investigated differences between Subscribers and Customers in terms of how long a typical trip lasts. Now it is your turn to continue the exploration in a direction that you choose. Here are a few suggestions for questions to explore:\n",
    "\n",
    "- How does ridership differ by month or season? Which month / season has the highest ridership? Does the ratio of Subscriber trips to Customer trips change depending on the month or season?\n",
    "- Is the pattern of ridership different on the weekends versus weekdays? On what days are Subscribers most likely to use the system? What about Customers? Does the average duration of rides change depending on the day of the week?\n",
    "- During what time of day is the system used the most? Is there a difference in usage patterns for Subscribers and Customers?\n",
    "\n",
    "If any of the questions you posed in your answer to question 1 align with the bullet points above, this is a good opportunity to investigate one of them. As part of your investigation, you will need to create a visualization. If you want to create something other than a histogram, then you might want to consult the [Pyplot documentation](https://matplotlib.org/devdocs/api/pyplot_summary.html). In particular, if you are plotting values across a categorical variable (e.g. city, user type), a bar chart will be useful. The [documentation page for `.bar()`](https://matplotlib.org/devdocs/api/_as_gen/matplotlib.pyplot.bar.html#matplotlib.pyplot.bar) includes links at the bottom of the page with examples for you to build off of for your own use.\n",
    "\n",
    "**Question 6**: Continue the investigation by exploring another question that could be answered by the data available. Document the question you want to explore below. Your investigation should involve at least two variables and should compare at least two groups. You should also use at least one visualization as part of your explorations.\n",
    "\n",
    "**Answer**: Replace this text with your responses and include a visualization below!"
   ]
  },
  {
   "cell_type": "code",
   "execution_count": 18,
   "metadata": {
    "collapsed": true
   },
   "outputs": [],
   "source": [
    "## Use this and additional cells to continue to explore the dataset. ##\n",
    "## Once you have performed your exploration, document your findings  ##\n",
    "## in the Markdown cell above.                                       ##\n",
    "\n",
    "# Gather trip data based on each month and plot it on the bar graph\n",
    "def month_based_data(city, filename):\n",
    "    with open(filename, 'r') as f_in:\n",
    "        reader = csv.DictReader(f_in)\n",
    "        \n",
    "        months_data = {}\n",
    "        for row in reader:\n",
    "            month = row['month']  \n",
    "            if month not in months_data:\n",
    "                months_data[month] = 1\n",
    "            else:\n",
    "                months_data[month] = months_data[month] + 1\n",
    "        \n",
    "        x_axis_data = []\n",
    "        y_axis_data = []\n",
    "        \n",
    "        for key, value in months_data.items():\n",
    "            x_axis_data.append(int(key))\n",
    "            y_axis_data.append(value)\n",
    "            \n",
    "        return(x_axis_data, y_axis_data)\n",
    "            \n",
    "            "
   ]
  },
  {
   "cell_type": "code",
   "execution_count": 64,
   "metadata": {
    "collapsed": true
   },
   "outputs": [],
   "source": [
    "# Gather trip data based on subscriber and customer\n",
    "# Calculate the ratio of subscriber to customer\n",
    "# Plot the data on the graph\n",
    "def ratio_based_data(city, filename):\n",
    "    with open(filename, 'r') as f_in:\n",
    "        reader = csv.DictReader(f_in)\n",
    "        \n",
    "        months_data = []\n",
    "        subscriber_months_data = {}\n",
    "        customer_months_data = {}\n",
    "        for row in reader:\n",
    "            month = row['month']                    \n",
    "            if int(month) not in months_data:\n",
    "                months_data.append(int(month))\n",
    "                \n",
    "            if row[\"user_type\"] == \"Subscriber\":\n",
    "                if month not in subscriber_months_data:\n",
    "                    subscriber_months_data[month] = 1\n",
    "                else:\n",
    "                    subscriber_months_data[month] = subscriber_months_data[month] + 1\n",
    "            else:\n",
    "                if month not in customer_months_data:\n",
    "                    customer_months_data[month] = 1\n",
    "                else:\n",
    "                    customer_months_data[month] = customer_months_data[month] + 1\n",
    "        x_axis_data = months_data\n",
    "        y_axis_data = []\n",
    "#         print(\"x_axis_data - \", x_axis_data)\n",
    "        \n",
    "        for month in months_data:\n",
    "            subscriber_month_data = subscriber_months_data[str(month)]\n",
    "            customer_month_data = customer_months_data[str(month)]\n",
    "            \n",
    "            if customer_month_data > 0.0:\n",
    "                ratio = round(subscriber_month_data / customer_month_data, 1)\n",
    "                y_axis_data.append(ratio)\n",
    "            else:\n",
    "                y_axis_data.append(subscriber_month_data)\n",
    "        return(x_axis_data, y_axis_data)\n",
    "            "
   ]
  },
  {
   "cell_type": "code",
   "execution_count": 69,
   "metadata": {},
   "outputs": [
    {
     "data": {
      "image/png": "[encoded data removed]",
      "text/plain": [
       "<matplotlib.figure.Figure at 0x109b71208>"
      ]
     },
     "metadata": {},
     "output_type": "display_data"
    },
    {
     "name": "stdout",
     "output_type": "stream",
     "text": [
      "The maximum number of trips made was in the month of September: 32699 trips.\n",
      "The minimum number of trips made was in the month of January: 10179 trips.\n",
      "The chart is left skewed.\n",
      "\n",
      "\n"
     ]
    },
    {
     "data": {
      "image/png": "[encoded data removed]",
      "text/plain": [
       "<matplotlib.figure.Figure at 0x10a4e4ba8>"
      ]
     },
     "metadata": {},
     "output_type": "display_data"
    },
    {
     "name": "stdout",
     "output_type": "stream",
     "text": [
      "The maximum ratio between Subscriber and Customer was in the month of September: 19.5\n",
      "The minimum ratio between Subscriber and Customer was in the month of July: 5.9\n",
      "The chart is non-symmetrical, bimodal.\n"
     ]
    }
   ],
   "source": [
    "city = \"Chicago\"\n",
    "chicago_file = clean_files[city]\n",
    "durations = month_based_data(city, filename)\n",
    "# print(\"durations - \", durations)\n",
    "\n",
    "# QUESTION 1: \n",
    "# Explore Chicago city data based on monthly metrics \n",
    "# to derive the number of trips made each month.\n",
    "duration_x_axis_data = durations[0]\n",
    "duration_y_axis_data = durations[1]\n",
    "\n",
    "plt.bar(duration_x_axis_data, duration_y_axis_data)\n",
    "# plt.ylim([0, 75])\n",
    "plt.title('Ridership / Month: {}'.format(city))\n",
    "plt.xlabel('Duration (month)')\n",
    "plt.show()\n",
    "print(\"The maximum number of trips made was in the month of September: 32699 trips.\")\n",
    "print(\"The minimum number of trips made was in the month of January: 10179 trips.\")\n",
    "print(\"The chart is left skewed.\\n\\n\")\n",
    "# INSIGHTS: \n",
    "# The maximum number of trips made was in the month of September i.e. 32699 trips.\n",
    "# The minimum number of trips made was in the month of January i.e. 10179 trips.\n",
    "# The chart is left skewed.\n",
    "\n",
    "\n",
    "# QUESTION 2: \n",
    "# Explore Chicago city data based on subscribers and customers, \n",
    "# to derive the ratio of trips made by subscribers to customers each month.\n",
    "ratio_based = ratio_based_data(city, filename)\n",
    "# print(\"ratio_based - \", ratio_based)\n",
    "\n",
    "ratio_x_axis_data = ratio_based[0]\n",
    "ratio_y_axis_data = ratio_based[1]\n",
    "\n",
    "plt.bar(ratio_x_axis_data, ratio_y_axis_data)\n",
    "# plt.ylim([0, 75])\n",
    "plt.title('Subscriber to Customer Ratio / Month: {}'.format(city))\n",
    "plt.xlabel('Duration (month)')\n",
    "plt.show()\n",
    "print(\"The maximum ratio between Subscriber and Customer was in the month of September: 19.5\")\n",
    "print(\"The minimum ratio between Subscriber and Customer was in the month of July: 5.9\")\n",
    "print(\"The chart is non-symmetrical, bimodal.\")\n",
    "# INSIGHTS: \n",
    "# The maximum ratio between Subscriber and Customer was in the month of September. 19.5\n",
    "# The minimum ratio between Subscriber and Customer was in the month of July. 5.9\n",
    "# The chart is non-symmetrical, bimodal."
   ]
  },
  {
   "cell_type": "markdown",
   "metadata": {},
   "source": [
    "<a id='conclusions'></a>\n",
    "## Conclusions\n",
    "\n",
    "Congratulations on completing the project! This is only a sampling of the data analysis process: from generating questions, wrangling the data, and to exploring the data. Normally, at this point in the data analysis process, you might want to draw conclusions about the data by performing a statistical test or fitting the data to a model for making predictions. There are also a lot of potential analyses that could be performed on the data which are not possible with only the data provided. For example, detailed location data has not been investigated. Where are the most commonly used docks? What are the most common routes? As another example, weather has potential to have a large impact on daily ridership. How much is ridership impacted when there is rain or snow? Are subscribers or customers affected more by changes in weather?\n",
    "\n",
    "**Question 7**: Putting the bike share data aside, think of a topic or field of interest where you would like to be able to apply the techniques of data science. What would you like to be able to learn from your chosen subject?\n",
    "\n",
    "**Answer**: Consume workout data and provide insights on routines, muscle worked on (month on month ratio), strength training and provide exercise recommendations.\n",
    "\n",
    "> **Tip**: If we want to share the results of our analysis with others, we aren't limited to giving them a copy of the jupyter Notebook (.ipynb) file. We can also export the Notebook output in a form that can be opened even for those without Python installed. From the **File** menu in the upper left, go to the **Download as** submenu. You can then choose a different format that can be viewed more generally, such as HTML (.html) or\n",
    "PDF (.pdf). You may need additional packages or software to perform these exports.\n",
    "\n",
    "> If you are working on this project via the Project Notebook page in the classroom, you can also submit this project directly from the workspace. **Before you do that**, you should save an HTML copy of the completed project to the workspace by running the code cell below. If it worked correctly, the output code should be a 0, and if you click on the jupyter icon in the upper left, you should see your .html document in the workspace directory. Alternatively, you can download the .html copy of your report following the steps in the previous paragraph, then _upload_ the report to the directory (by clicking the jupyter icon).\n",
    "\n",
    "> Either way, once you've gotten the .html report in your workspace, you can complete your submission by clicking on the \"Submit Project\" button to the lower-right hand side of the workspace."
   ]
  },
  {
   "cell_type": "code",
   "execution_count": 1,
   "metadata": {},
   "outputs": [
    {
     "data": {
      "text/plain": [
       "0"
      ]
     },
     "execution_count": 1,
     "metadata": {},
     "output_type": "execute_result"
    }
   ],
   "source": [
    "from subprocess import call\n",
    "call(['python', '-m', 'nbconvert', 'Bike_Share_Analysis.ipynb'])"
   ]
  },
  {
   "cell_type": "code",
   "execution_count": null,
   "metadata": {
    "collapsed": true
   },
   "outputs": [],
   "source": []
  }
 ],
 "metadata": {
  "anaconda-cloud": {},
  "kernelspec": {
   "display_name": "Python 3",
   "language": "python",
   "name": "python3"
  },
  "language_info": {
   "codemirror_mode": {
    "name": "ipython",
    "version": 3
   },
   "file_extension": ".py",
   "mimetype": "text/x-python",
   "name": "python",
   "nbconvert_exporter": "python",
   "pygments_lexer": "ipython3",
   "version": "3.6.2"
  }
 },
 "nbformat": 4,
 "nbformat_minor": 1
}
